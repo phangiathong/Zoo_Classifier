{
 "cells": [
  {
   "cell_type": "code",
   "execution_count": 32,
   "metadata": {},
   "outputs": [],
   "source": [
    "# làm việc hiệu quả với ma trận và mảng\n",
    "import numpy as np # linear algebra\n",
    "# Làm việc với dữ liệu có cấu trúc dạng bảng, đa chiều\n",
    "import pandas as pd"
   ]
  },
  {
   "cell_type": "code",
   "execution_count": 33,
   "metadata": {},
   "outputs": [
    {
     "name": "stdout",
     "output_type": "stream",
     "text": [
      "E:\\KhaiPhaDuLieu\\Machine\\BaiTapLon..docx\n",
      "E:\\KhaiPhaDuLieu\\Machine\\class.csv\n",
      "E:\\KhaiPhaDuLieu\\Machine\\ID3.ipynb\n",
      "E:\\KhaiPhaDuLieu\\Machine\\zoo\n",
      "E:\\KhaiPhaDuLieu\\Machine\\zoo.csv\n",
      "E:\\KhaiPhaDuLieu\\Machine\\zoo.pdf\n"
     ]
    }
   ],
   "source": [
    "import os\n",
    "for dirname, _, filenames in os.walk('E:\\KhaiPhaDuLieu\\Machine'):\n",
    "    for filename in filenames:\n",
    "        print(os.path.join(dirname, filename))"
   ]
  },
  {
   "cell_type": "code",
   "execution_count": 34,
   "metadata": {},
   "outputs": [
    {
     "data": {
      "text/html": [
       "<div>\n",
       "<style scoped>\n",
       "    .dataframe tbody tr th:only-of-type {\n",
       "        vertical-align: middle;\n",
       "    }\n",
       "\n",
       "    .dataframe tbody tr th {\n",
       "        vertical-align: top;\n",
       "    }\n",
       "\n",
       "    .dataframe thead th {\n",
       "        text-align: right;\n",
       "    }\n",
       "</style>\n",
       "<table border=\"1\" class=\"dataframe\">\n",
       "  <thead>\n",
       "    <tr style=\"text-align: right;\">\n",
       "      <th></th>\n",
       "      <th>animal_name</th>\n",
       "      <th>hair</th>\n",
       "      <th>feathers</th>\n",
       "      <th>eggs</th>\n",
       "      <th>milk</th>\n",
       "      <th>airborne</th>\n",
       "      <th>aquatic</th>\n",
       "      <th>predator</th>\n",
       "      <th>toothed</th>\n",
       "      <th>backbone</th>\n",
       "      <th>breathes</th>\n",
       "      <th>venomous</th>\n",
       "      <th>fins</th>\n",
       "      <th>legs</th>\n",
       "      <th>tail</th>\n",
       "      <th>domestic</th>\n",
       "      <th>catsize</th>\n",
       "      <th>class_type</th>\n",
       "    </tr>\n",
       "  </thead>\n",
       "  <tbody>\n",
       "    <tr>\n",
       "      <th>0</th>\n",
       "      <td>aardvark</td>\n",
       "      <td>1</td>\n",
       "      <td>0</td>\n",
       "      <td>0</td>\n",
       "      <td>1</td>\n",
       "      <td>0</td>\n",
       "      <td>0</td>\n",
       "      <td>1</td>\n",
       "      <td>1</td>\n",
       "      <td>1</td>\n",
       "      <td>1</td>\n",
       "      <td>0</td>\n",
       "      <td>0</td>\n",
       "      <td>4</td>\n",
       "      <td>0</td>\n",
       "      <td>0</td>\n",
       "      <td>1</td>\n",
       "      <td>1</td>\n",
       "    </tr>\n",
       "    <tr>\n",
       "      <th>1</th>\n",
       "      <td>antelope</td>\n",
       "      <td>1</td>\n",
       "      <td>0</td>\n",
       "      <td>0</td>\n",
       "      <td>1</td>\n",
       "      <td>0</td>\n",
       "      <td>0</td>\n",
       "      <td>0</td>\n",
       "      <td>1</td>\n",
       "      <td>1</td>\n",
       "      <td>1</td>\n",
       "      <td>0</td>\n",
       "      <td>0</td>\n",
       "      <td>4</td>\n",
       "      <td>1</td>\n",
       "      <td>0</td>\n",
       "      <td>1</td>\n",
       "      <td>1</td>\n",
       "    </tr>\n",
       "    <tr>\n",
       "      <th>2</th>\n",
       "      <td>bass</td>\n",
       "      <td>0</td>\n",
       "      <td>0</td>\n",
       "      <td>1</td>\n",
       "      <td>0</td>\n",
       "      <td>0</td>\n",
       "      <td>1</td>\n",
       "      <td>1</td>\n",
       "      <td>1</td>\n",
       "      <td>1</td>\n",
       "      <td>0</td>\n",
       "      <td>0</td>\n",
       "      <td>1</td>\n",
       "      <td>0</td>\n",
       "      <td>1</td>\n",
       "      <td>0</td>\n",
       "      <td>0</td>\n",
       "      <td>4</td>\n",
       "    </tr>\n",
       "    <tr>\n",
       "      <th>3</th>\n",
       "      <td>bear</td>\n",
       "      <td>1</td>\n",
       "      <td>0</td>\n",
       "      <td>0</td>\n",
       "      <td>1</td>\n",
       "      <td>0</td>\n",
       "      <td>0</td>\n",
       "      <td>1</td>\n",
       "      <td>1</td>\n",
       "      <td>1</td>\n",
       "      <td>1</td>\n",
       "      <td>0</td>\n",
       "      <td>0</td>\n",
       "      <td>4</td>\n",
       "      <td>0</td>\n",
       "      <td>0</td>\n",
       "      <td>1</td>\n",
       "      <td>1</td>\n",
       "    </tr>\n",
       "    <tr>\n",
       "      <th>4</th>\n",
       "      <td>boar</td>\n",
       "      <td>1</td>\n",
       "      <td>0</td>\n",
       "      <td>0</td>\n",
       "      <td>1</td>\n",
       "      <td>0</td>\n",
       "      <td>0</td>\n",
       "      <td>1</td>\n",
       "      <td>1</td>\n",
       "      <td>1</td>\n",
       "      <td>1</td>\n",
       "      <td>0</td>\n",
       "      <td>0</td>\n",
       "      <td>4</td>\n",
       "      <td>1</td>\n",
       "      <td>0</td>\n",
       "      <td>1</td>\n",
       "      <td>1</td>\n",
       "    </tr>\n",
       "  </tbody>\n",
       "</table>\n",
       "</div>"
      ],
      "text/plain": [
       "  animal_name  hair  feathers  eggs  milk  airborne  aquatic  predator  \\\n",
       "0    aardvark     1         0     0     1         0        0         1   \n",
       "1    antelope     1         0     0     1         0        0         0   \n",
       "2        bass     0         0     1     0         0        1         1   \n",
       "3        bear     1         0     0     1         0        0         1   \n",
       "4        boar     1         0     0     1         0        0         1   \n",
       "\n",
       "   toothed  backbone  breathes  venomous  fins  legs  tail  domestic  catsize  \\\n",
       "0        1         1         1         0     0     4     0         0        1   \n",
       "1        1         1         1         0     0     4     1         0        1   \n",
       "2        1         1         0         0     1     0     1         0        0   \n",
       "3        1         1         1         0     0     4     0         0        1   \n",
       "4        1         1         1         0     0     4     1         0        1   \n",
       "\n",
       "   class_type  \n",
       "0           1  \n",
       "1           1  \n",
       "2           4  \n",
       "3           1  \n",
       "4           1  "
      ]
     },
     "execution_count": 34,
     "metadata": {},
     "output_type": "execute_result"
    }
   ],
   "source": [
    "data_zoo = pd.read_csv('./zoo.csv')\n",
    "data_zoo_class = pd.read_csv('./class.csv')\n",
    "data_zoo.head()"
   ]
  },
  {
   "cell_type": "code",
   "execution_count": 35,
   "metadata": {},
   "outputs": [
    {
     "data": {
      "text/plain": [
       "['1', '2', '3', '4', '5', '6', '7']"
      ]
     },
     "execution_count": 35,
     "metadata": {},
     "output_type": "execute_result"
    }
   ],
   "source": [
    "category_animals = [str(x) for x in sorted(data_zoo['class_type'].unique())]\n",
    "category_animals"
   ]
  },
  {
   "cell_type": "code",
   "execution_count": 36,
   "metadata": {},
   "outputs": [],
   "source": [
    "category_animals_edges = [('Animals', x) for x in category_animals]\n"
   ]
  },
  {
   "cell_type": "code",
   "execution_count": 47,
   "metadata": {},
   "outputs": [
    {
     "data": {
      "text/plain": [
       "['aardvark',\n",
       " 'antelope',\n",
       " 'bear',\n",
       " 'boar',\n",
       " 'buffalo',\n",
       " 'calf',\n",
       " 'cavy',\n",
       " 'cheetah',\n",
       " 'deer',\n",
       " 'dolphin',\n",
       " 'elephant',\n",
       " 'fruitbat',\n",
       " 'giraffe',\n",
       " 'girl',\n",
       " 'goat',\n",
       " 'gorilla',\n",
       " 'hamster',\n",
       " 'hare',\n",
       " 'leopard',\n",
       " 'lion',\n",
       " 'lynx',\n",
       " 'mink',\n",
       " 'mole',\n",
       " 'mongoose',\n",
       " 'opossum',\n",
       " 'oryx',\n",
       " 'platypus',\n",
       " 'polecat',\n",
       " 'pony',\n",
       " 'porpoise',\n",
       " 'puma',\n",
       " 'pussycat',\n",
       " 'raccoon',\n",
       " 'reindeer',\n",
       " 'seal',\n",
       " 'sealion',\n",
       " 'squirrel',\n",
       " 'vampire',\n",
       " 'vole',\n",
       " 'wallaby',\n",
       " 'wolf',\n",
       " 'chicken',\n",
       " 'crow',\n",
       " 'dove',\n",
       " 'duck',\n",
       " 'flamingo',\n",
       " 'gull',\n",
       " 'hawk',\n",
       " 'kiwi',\n",
       " 'lark',\n",
       " 'ostrich',\n",
       " 'parakeet',\n",
       " 'penguin',\n",
       " 'pheasant',\n",
       " 'rhea',\n",
       " 'skimmer',\n",
       " 'skua',\n",
       " 'sparrow',\n",
       " 'swan',\n",
       " 'vulture',\n",
       " 'wren',\n",
       " 'pitviper',\n",
       " 'seasnake',\n",
       " 'slowworm',\n",
       " 'tortoise',\n",
       " 'tuatara',\n",
       " 'bass',\n",
       " 'carp',\n",
       " 'catfish',\n",
       " 'chub',\n",
       " 'dogfish',\n",
       " 'haddock',\n",
       " 'herring',\n",
       " 'pike',\n",
       " 'piranha',\n",
       " 'seahorse',\n",
       " 'sole',\n",
       " 'stingray',\n",
       " 'tuna',\n",
       " 'frog',\n",
       " 'frog',\n",
       " 'newt',\n",
       " 'toad',\n",
       " 'flea',\n",
       " 'gnat',\n",
       " 'honeybee',\n",
       " 'housefly',\n",
       " 'ladybird',\n",
       " 'moth',\n",
       " 'termite',\n",
       " 'wasp',\n",
       " 'clam',\n",
       " 'crab',\n",
       " 'crayfish',\n",
       " 'lobster',\n",
       " 'octopus',\n",
       " 'scorpion',\n",
       " 'seawasp',\n",
       " 'slug',\n",
       " 'starfish',\n",
       " 'worm']"
      ]
     },
     "execution_count": 47,
     "metadata": {},
     "output_type": "execute_result"
    }
   ],
   "source": [
    "# Gán tên cho class phân loại\n",
    "species = [data_zoo['animal_name'][data_zoo['class_type'] == x].tolist() for x in sorted(data_zoo['class_type'].unique())]\n",
    "# Extracting lists of species for each category to one list\n",
    "species = [j for i in species for j in i]\n",
    "species"
   ]
  },
  {
   "cell_type": "code",
   "execution_count": 38,
   "metadata": {},
   "outputs": [],
   "source": [
    "\n",
    "x=data_zoo.drop(['class_type', 'animal_name'], axis = 1)\n",
    "y=data_zoo.class_type"
   ]
  },
  {
   "cell_type": "code",
   "execution_count": 39,
   "metadata": {},
   "outputs": [
    {
     "data": {
      "text/plain": [
       "[Text(0.8181818181818182, 0.9375, 'X[3] <= 0.5\\ngini = 0.759\\nsamples = 101\\nvalue = [41, 20, 5, 13, 4, 8, 10]'),\n",
       " Text(0.7272727272727273, 0.8125, 'X[1] <= 0.5\\ngini = 0.785\\nsamples = 60\\nvalue = [0, 20, 5, 13, 4, 8, 10]'),\n",
       " Text(0.6363636363636364, 0.6875, 'X[11] <= 0.5\\ngini = 0.766\\nsamples = 40\\nvalue = [0, 0, 5, 13, 4, 8, 10]'),\n",
       " Text(0.5454545454545454, 0.5625, 'X[8] <= 0.5\\ngini = 0.719\\nsamples = 27\\nvalue = [0, 0, 5, 0, 4, 8, 10]'),\n",
       " Text(0.36363636363636365, 0.4375, 'X[4] <= 0.5\\ngini = 0.494\\nsamples = 18\\nvalue = [0, 0, 0, 0, 0, 8, 10]'),\n",
       " Text(0.2727272727272727, 0.3125, 'X[6] <= 0.5\\ngini = 0.278\\nsamples = 12\\nvalue = [0, 0, 0, 0, 0, 2, 10]'),\n",
       " Text(0.18181818181818182, 0.1875, 'X[12] <= 3.0\\ngini = 0.5\\nsamples = 4\\nvalue = [0, 0, 0, 0, 0, 2, 2]'),\n",
       " Text(0.09090909090909091, 0.0625, 'gini = 0.0\\nsamples = 2\\nvalue = [0, 0, 0, 0, 0, 0, 2]'),\n",
       " Text(0.2727272727272727, 0.0625, 'gini = 0.0\\nsamples = 2\\nvalue = [0, 0, 0, 0, 0, 2, 0]'),\n",
       " Text(0.36363636363636365, 0.1875, 'gini = 0.0\\nsamples = 8\\nvalue = [0, 0, 0, 0, 0, 0, 8]'),\n",
       " Text(0.45454545454545453, 0.3125, 'gini = 0.0\\nsamples = 6\\nvalue = [0, 0, 0, 0, 0, 6, 0]'),\n",
       " Text(0.7272727272727273, 0.4375, 'X[5] <= 0.5\\ngini = 0.494\\nsamples = 9\\nvalue = [0, 0, 5, 0, 4, 0, 0]'),\n",
       " Text(0.6363636363636364, 0.3125, 'gini = 0.0\\nsamples = 4\\nvalue = [0, 0, 4, 0, 0, 0, 0]'),\n",
       " Text(0.8181818181818182, 0.3125, 'X[2] <= 0.5\\ngini = 0.32\\nsamples = 5\\nvalue = [0, 0, 1, 0, 4, 0, 0]'),\n",
       " Text(0.7272727272727273, 0.1875, 'gini = 0.0\\nsamples = 1\\nvalue = [0, 0, 1, 0, 0, 0, 0]'),\n",
       " Text(0.9090909090909091, 0.1875, 'gini = 0.0\\nsamples = 4\\nvalue = [0, 0, 0, 0, 4, 0, 0]'),\n",
       " Text(0.7272727272727273, 0.5625, 'gini = 0.0\\nsamples = 13\\nvalue = [0, 0, 0, 13, 0, 0, 0]'),\n",
       " Text(0.8181818181818182, 0.6875, 'gini = 0.0\\nsamples = 20\\nvalue = [0, 20, 0, 0, 0, 0, 0]'),\n",
       " Text(0.9090909090909091, 0.8125, 'gini = 0.0\\nsamples = 41\\nvalue = [41, 0, 0, 0, 0, 0, 0]')]"
      ]
     },
     "execution_count": 39,
     "metadata": {},
     "output_type": "execute_result"
    },
    {
     "data": {
      "image/png": "[encoded data removed]",
      "text/plain": [
       "<Figure size 432x288 with 1 Axes>"
      ]
     },
     "metadata": {
      "needs_background": "light"
     },
     "output_type": "display_data"
    }
   ],
   "source": [
    "import sklearn.tree as tr\n",
    "import matplotlib.pyplot as pl\n",
    "\n",
    "dtree=tr.DecisionTreeClassifier()\n",
    "dtree=dtree.fit(x,y)\n",
    "tr.plot_tree(dtree)"
   ]
  },
  {
   "cell_type": "code",
   "execution_count": 40,
   "metadata": {},
   "outputs": [],
   "source": [
    "import os\n",
    "os.environ[\"PATH\"] += os.pathsep + 'C:/Program Files/Graphviz/bin'"
   ]
  },
  {
   "cell_type": "code",
   "execution_count": 41,
   "metadata": {},
   "outputs": [
    {
     "data": {
      "text/plain": [
       "'zoo.pdf'"
      ]
     },
     "execution_count": 41,
     "metadata": {},
     "output_type": "execute_result"
    }
   ],
   "source": [
    "import graphviz \n",
    "dot_data = tr.export_graphviz(dtree, out_file=None) \n",
    "graph = graphviz.Source(dot_data) \n",
    "graph.render(\"zoo\") "
   ]
  },
  {
   "cell_type": "code",
   "execution_count": 42,
   "metadata": {},
   "outputs": [
    {
     "data": {
      "image/svg+xml": "<?xml version=\"1.0\" encoding=\"UTF-8\" standalone=\"no\"?>\n<!DOCTYPE svg PUBLIC \"-//W3C//DTD SVG 1.1//EN\"\n \"http://www.w3.org/Graphics/SVG/1.1/DTD/svg11.dtd\">\n<!-- Generated by graphviz version 3.0.0 (20220226.1711)\n -->\n<!-- Title: Tree Pages: 1 -->\n<svg width=\"1092pt\" height=\"909pt\"\n viewBox=\"0.00 0.00 1092.00 909.00\" xmlns=\"http://www.w3.org/2000/svg\" xmlns:xlink=\"http://www.w3.org/1999/xlink\">\n<g id=\"graph0\" class=\"graph\" transform=\"scale(1 1) rotate(0) translate(4 905)\">\n<title>Tree</title>\n<polygon fill=\"white\" stroke=\"transparent\" points=\"-4,4 -4,-905 1088,-905 1088,4 -4,4\"/>\n<!-- 0 -->\n<g id=\"node1\" class=\"node\">\n<title>0</title>\n<path fill=\"#f8decc\" stroke=\"black\" d=\"M979.5,-901C979.5,-901 794.5,-901 794.5,-901 788.5,-901 782.5,-895 782.5,-889 782.5,-889 782.5,-830 782.5,-830 782.5,-824 788.5,-818 794.5,-818 794.5,-818 979.5,-818 979.5,-818 985.5,-818 991.5,-824 991.5,-830 991.5,-830 991.5,-889 991.5,-889 991.5,-895 985.5,-901 979.5,-901\"/>\n<text text-anchor=\"middle\" x=\"887\" y=\"-885.8\" font-family=\"Helvetica,sans-Serif\" font-size=\"14.00\">milk &lt;= 0.5</text>\n<text text-anchor=\"middle\" x=\"887\" y=\"-870.8\" font-family=\"Helvetica,sans-Serif\" font-size=\"14.00\">gini = 0.759</text>\n<text text-anchor=\"middle\" x=\"887\" y=\"-855.8\" font-family=\"Helvetica,sans-Serif\" font-size=\"14.00\">samples = 101</text>\n<text text-anchor=\"middle\" x=\"887\" y=\"-840.8\" font-family=\"Helvetica,sans-Serif\" font-size=\"14.00\">value = [41, 20, 5, 13, 4, 8, 10]</text>\n<text text-anchor=\"middle\" x=\"887\" y=\"-825.8\" font-family=\"Helvetica,sans-Serif\" font-size=\"14.00\">class = 1 Mammal</text>\n</g>\n<!-- 1 -->\n<g id=\"node2\" class=\"node\">\n<title>1</title>\n<path fill=\"#f4fbe2\" stroke=\"black\" d=\"M870,-782C870,-782 694,-782 694,-782 688,-782 682,-776 682,-770 682,-770 682,-711 682,-711 682,-705 688,-699 694,-699 694,-699 870,-699 870,-699 876,-699 882,-705 882,-711 882,-711 882,-770 882,-770 882,-776 876,-782 870,-782\"/>\n<text text-anchor=\"middle\" x=\"782\" y=\"-766.8\" font-family=\"Helvetica,sans-Serif\" font-size=\"14.00\">feathers &lt;= 0.5</text>\n<text text-anchor=\"middle\" x=\"782\" y=\"-751.8\" font-family=\"Helvetica,sans-Serif\" font-size=\"14.00\">gini = 0.785</text>\n<text text-anchor=\"middle\" x=\"782\" y=\"-736.8\" font-family=\"Helvetica,sans-Serif\" font-size=\"14.00\">samples = 60</text>\n<text text-anchor=\"middle\" x=\"782\" y=\"-721.8\" font-family=\"Helvetica,sans-Serif\" font-size=\"14.00\">value = [0, 20, 5, 13, 4, 8, 10]</text>\n<text text-anchor=\"middle\" x=\"782\" y=\"-706.8\" font-family=\"Helvetica,sans-Serif\" font-size=\"14.00\">class = 2 Bird</text>\n</g>\n<!-- 0&#45;&gt;1 -->\n<g id=\"edge1\" class=\"edge\">\n<title>0&#45;&gt;1</title>\n<path fill=\"none\" stroke=\"black\" d=\"M850.57,-817.91C842.35,-808.74 833.54,-798.93 825.07,-789.49\"/>\n<polygon fill=\"black\" stroke=\"black\" points=\"827.65,-787.13 818.36,-782.02 822.44,-791.8 827.65,-787.13\"/>\n<text text-anchor=\"middle\" x=\"817.02\" y=\"-803.28\" font-family=\"Helvetica,sans-Serif\" font-size=\"14.00\">True</text>\n</g>\n<!-- 18 -->\n<g id=\"node19\" class=\"node\">\n<title>18</title>\n<path fill=\"#e58139\" stroke=\"black\" d=\"M1072,-774.5C1072,-774.5 912,-774.5 912,-774.5 906,-774.5 900,-768.5 900,-762.5 900,-762.5 900,-718.5 900,-718.5 900,-712.5 906,-706.5 912,-706.5 912,-706.5 1072,-706.5 1072,-706.5 1078,-706.5 1084,-712.5 1084,-718.5 1084,-718.5 1084,-762.5 1084,-762.5 1084,-768.5 1078,-774.5 1072,-774.5\"/>\n<text text-anchor=\"middle\" x=\"992\" y=\"-759.3\" font-family=\"Helvetica,sans-Serif\" font-size=\"14.00\">gini = 0.0</text>\n<text text-anchor=\"middle\" x=\"992\" y=\"-744.3\" font-family=\"Helvetica,sans-Serif\" font-size=\"14.00\">samples = 41</text>\n<text text-anchor=\"middle\" x=\"992\" y=\"-729.3\" font-family=\"Helvetica,sans-Serif\" font-size=\"14.00\">value = [41, 0, 0, 0, 0, 0, 0]</text>\n<text text-anchor=\"middle\" x=\"992\" y=\"-714.3\" font-family=\"Helvetica,sans-Serif\" font-size=\"14.00\">class = 1 Mammal</text>\n</g>\n<!-- 0&#45;&gt;18 -->\n<g id=\"edge18\" class=\"edge\">\n<title>0&#45;&gt;18</title>\n<path fill=\"none\" stroke=\"black\" d=\"M923.43,-817.91C933.83,-806.32 945.16,-793.7 955.55,-782.11\"/>\n<polygon fill=\"black\" stroke=\"black\" points=\"958.16,-784.45 962.23,-774.67 952.95,-779.77 958.16,-784.45\"/>\n<text text-anchor=\"middle\" x=\"963.58\" y=\"-795.93\" font-family=\"Helvetica,sans-Serif\" font-size=\"14.00\">False</text>\n</g>\n<!-- 2 -->\n<g id=\"node3\" class=\"node\">\n<title>2</title>\n<path fill=\"#ebfcfc\" stroke=\"black\" d=\"M763,-663C763,-663 595,-663 595,-663 589,-663 583,-657 583,-651 583,-651 583,-592 583,-592 583,-586 589,-580 595,-580 595,-580 763,-580 763,-580 769,-580 775,-586 775,-592 775,-592 775,-651 775,-651 775,-657 769,-663 763,-663\"/>\n<text text-anchor=\"middle\" x=\"679\" y=\"-647.8\" font-family=\"Helvetica,sans-Serif\" font-size=\"14.00\">fins &lt;= 0.5</text>\n<text text-anchor=\"middle\" x=\"679\" y=\"-632.8\" font-family=\"Helvetica,sans-Serif\" font-size=\"14.00\">gini = 0.766</text>\n<text text-anchor=\"middle\" x=\"679\" y=\"-617.8\" font-family=\"Helvetica,sans-Serif\" font-size=\"14.00\">samples = 40</text>\n<text text-anchor=\"middle\" x=\"679\" y=\"-602.8\" font-family=\"Helvetica,sans-Serif\" font-size=\"14.00\">value = [0, 0, 5, 13, 4, 8, 10]</text>\n<text text-anchor=\"middle\" x=\"679\" y=\"-587.8\" font-family=\"Helvetica,sans-Serif\" font-size=\"14.00\">class = 4 Fish</text>\n</g>\n<!-- 1&#45;&gt;2 -->\n<g id=\"edge2\" class=\"edge\">\n<title>1&#45;&gt;2</title>\n<path fill=\"none\" stroke=\"black\" d=\"M746.26,-698.91C738.28,-689.83 729.73,-680.12 721.49,-670.77\"/>\n<polygon fill=\"black\" stroke=\"black\" points=\"723.91,-668.21 714.67,-663.02 718.65,-672.84 723.91,-668.21\"/>\n</g>\n<!-- 17 -->\n<g id=\"node18\" class=\"node\">\n<title>17</title>\n<path fill=\"#b7e539\" stroke=\"black\" d=\"M965,-655.5C965,-655.5 805,-655.5 805,-655.5 799,-655.5 793,-649.5 793,-643.5 793,-643.5 793,-599.5 793,-599.5 793,-593.5 799,-587.5 805,-587.5 805,-587.5 965,-587.5 965,-587.5 971,-587.5 977,-593.5 977,-599.5 977,-599.5 977,-643.5 977,-643.5 977,-649.5 971,-655.5 965,-655.5\"/>\n<text text-anchor=\"middle\" x=\"885\" y=\"-640.3\" font-family=\"Helvetica,sans-Serif\" font-size=\"14.00\">gini = 0.0</text>\n<text text-anchor=\"middle\" x=\"885\" y=\"-625.3\" font-family=\"Helvetica,sans-Serif\" font-size=\"14.00\">samples = 20</text>\n<text text-anchor=\"middle\" x=\"885\" y=\"-610.3\" font-family=\"Helvetica,sans-Serif\" font-size=\"14.00\">value = [0, 20, 0, 0, 0, 0, 0]</text>\n<text text-anchor=\"middle\" x=\"885\" y=\"-595.3\" font-family=\"Helvetica,sans-Serif\" font-size=\"14.00\">class = 2 Bird</text>\n</g>\n<!-- 1&#45;&gt;17 -->\n<g id=\"edge17\" class=\"edge\">\n<title>1&#45;&gt;17</title>\n<path fill=\"none\" stroke=\"black\" d=\"M817.74,-698.91C827.84,-687.43 838.84,-674.94 848.96,-663.44\"/>\n<polygon fill=\"black\" stroke=\"black\" points=\"851.82,-665.49 855.8,-655.67 846.57,-660.86 851.82,-665.49\"/>\n</g>\n<!-- 3 -->\n<g id=\"node4\" class=\"node\">\n<title>3</title>\n<path fill=\"#fceaf2\" stroke=\"black\" d=\"M658,-544C658,-544 498,-544 498,-544 492,-544 486,-538 486,-532 486,-532 486,-473 486,-473 486,-467 492,-461 498,-461 498,-461 658,-461 658,-461 664,-461 670,-467 670,-473 670,-473 670,-532 670,-532 670,-538 664,-544 658,-544\"/>\n<text text-anchor=\"middle\" x=\"578\" y=\"-528.8\" font-family=\"Helvetica,sans-Serif\" font-size=\"14.00\">backbone &lt;= 0.5</text>\n<text text-anchor=\"middle\" x=\"578\" y=\"-513.8\" font-family=\"Helvetica,sans-Serif\" font-size=\"14.00\">gini = 0.719</text>\n<text text-anchor=\"middle\" x=\"578\" y=\"-498.8\" font-family=\"Helvetica,sans-Serif\" font-size=\"14.00\">samples = 27</text>\n<text text-anchor=\"middle\" x=\"578\" y=\"-483.8\" font-family=\"Helvetica,sans-Serif\" font-size=\"14.00\">value = [0, 0, 5, 0, 4, 8, 10]</text>\n<text text-anchor=\"middle\" x=\"578\" y=\"-468.8\" font-family=\"Helvetica,sans-Serif\" font-size=\"14.00\">class = 7 Invertebrate</text>\n</g>\n<!-- 2&#45;&gt;3 -->\n<g id=\"edge3\" class=\"edge\">\n<title>2&#45;&gt;3</title>\n<path fill=\"none\" stroke=\"black\" d=\"M643.96,-579.91C636.12,-570.83 627.74,-561.12 619.67,-551.77\"/>\n<polygon fill=\"black\" stroke=\"black\" points=\"622.16,-549.3 612.98,-544.02 616.86,-553.88 622.16,-549.3\"/>\n</g>\n<!-- 16 -->\n<g id=\"node17\" class=\"node\">\n<title>16</title>\n<path fill=\"#39e5e2\" stroke=\"black\" d=\"M860,-536.5C860,-536.5 700,-536.5 700,-536.5 694,-536.5 688,-530.5 688,-524.5 688,-524.5 688,-480.5 688,-480.5 688,-474.5 694,-468.5 700,-468.5 700,-468.5 860,-468.5 860,-468.5 866,-468.5 872,-474.5 872,-480.5 872,-480.5 872,-524.5 872,-524.5 872,-530.5 866,-536.5 860,-536.5\"/>\n<text text-anchor=\"middle\" x=\"780\" y=\"-521.3\" font-family=\"Helvetica,sans-Serif\" font-size=\"14.00\">gini = 0.0</text>\n<text text-anchor=\"middle\" x=\"780\" y=\"-506.3\" font-family=\"Helvetica,sans-Serif\" font-size=\"14.00\">samples = 13</text>\n<text text-anchor=\"middle\" x=\"780\" y=\"-491.3\" font-family=\"Helvetica,sans-Serif\" font-size=\"14.00\">value = [0, 0, 0, 13, 0, 0, 0]</text>\n<text text-anchor=\"middle\" x=\"780\" y=\"-476.3\" font-family=\"Helvetica,sans-Serif\" font-size=\"14.00\">class = 4 Fish</text>\n</g>\n<!-- 2&#45;&gt;16 -->\n<g id=\"edge16\" class=\"edge\">\n<title>2&#45;&gt;16</title>\n<path fill=\"none\" stroke=\"black\" d=\"M714.04,-579.91C723.95,-568.43 734.73,-555.94 744.66,-544.44\"/>\n<polygon fill=\"black\" stroke=\"black\" points=\"747.48,-546.52 751.37,-536.67 742.18,-541.95 747.48,-546.52\"/>\n</g>\n<!-- 4 -->\n<g id=\"node5\" class=\"node\">\n<title>4</title>\n<path fill=\"#fad7e7\" stroke=\"black\" d=\"M559,-425C559,-425 399,-425 399,-425 393,-425 387,-419 387,-413 387,-413 387,-354 387,-354 387,-348 393,-342 399,-342 399,-342 559,-342 559,-342 565,-342 571,-348 571,-354 571,-354 571,-413 571,-413 571,-419 565,-425 559,-425\"/>\n<text text-anchor=\"middle\" x=\"479\" y=\"-409.8\" font-family=\"Helvetica,sans-Serif\" font-size=\"14.00\">airborne &lt;= 0.5</text>\n<text text-anchor=\"middle\" x=\"479\" y=\"-394.8\" font-family=\"Helvetica,sans-Serif\" font-size=\"14.00\">gini = 0.494</text>\n<text text-anchor=\"middle\" x=\"479\" y=\"-379.8\" font-family=\"Helvetica,sans-Serif\" font-size=\"14.00\">samples = 18</text>\n<text text-anchor=\"middle\" x=\"479\" y=\"-364.8\" font-family=\"Helvetica,sans-Serif\" font-size=\"14.00\">value = [0, 0, 0, 0, 0, 8, 10]</text>\n<text text-anchor=\"middle\" x=\"479\" y=\"-349.8\" font-family=\"Helvetica,sans-Serif\" font-size=\"14.00\">class = 7 Invertebrate</text>\n</g>\n<!-- 3&#45;&gt;4 -->\n<g id=\"edge4\" class=\"edge\">\n<title>3&#45;&gt;4</title>\n<path fill=\"none\" stroke=\"black\" d=\"M543.65,-460.91C535.97,-451.83 527.76,-442.12 519.84,-432.77\"/>\n<polygon fill=\"black\" stroke=\"black\" points=\"522.42,-430.39 513.29,-425.02 517.07,-434.92 522.42,-430.39\"/>\n</g>\n<!-- 11 -->\n<g id=\"node12\" class=\"node\">\n<title>11</title>\n<path fill=\"#d7fadb\" stroke=\"black\" d=\"M753,-425C753,-425 601,-425 601,-425 595,-425 589,-419 589,-413 589,-413 589,-354 589,-354 589,-348 595,-342 601,-342 601,-342 753,-342 753,-342 759,-342 765,-348 765,-354 765,-354 765,-413 765,-413 765,-419 759,-425 753,-425\"/>\n<text text-anchor=\"middle\" x=\"677\" y=\"-409.8\" font-family=\"Helvetica,sans-Serif\" font-size=\"14.00\">aquatic &lt;= 0.5</text>\n<text text-anchor=\"middle\" x=\"677\" y=\"-394.8\" font-family=\"Helvetica,sans-Serif\" font-size=\"14.00\">gini = 0.494</text>\n<text text-anchor=\"middle\" x=\"677\" y=\"-379.8\" font-family=\"Helvetica,sans-Serif\" font-size=\"14.00\">samples = 9</text>\n<text text-anchor=\"middle\" x=\"677\" y=\"-364.8\" font-family=\"Helvetica,sans-Serif\" font-size=\"14.00\">value = [0, 0, 5, 0, 4, 0, 0]</text>\n<text text-anchor=\"middle\" x=\"677\" y=\"-349.8\" font-family=\"Helvetica,sans-Serif\" font-size=\"14.00\">class = 3 Reptile</text>\n</g>\n<!-- 3&#45;&gt;11 -->\n<g id=\"edge11\" class=\"edge\">\n<title>3&#45;&gt;11</title>\n<path fill=\"none\" stroke=\"black\" d=\"M612.35,-460.91C620.03,-451.83 628.24,-442.12 636.16,-432.77\"/>\n<polygon fill=\"black\" stroke=\"black\" points=\"638.93,-434.92 642.71,-425.02 633.58,-430.39 638.93,-434.92\"/>\n</g>\n<!-- 5 -->\n<g id=\"node6\" class=\"node\">\n<title>5</title>\n<path fill=\"#ea619e\" stroke=\"black\" d=\"M362,-306C362,-306 202,-306 202,-306 196,-306 190,-300 190,-294 190,-294 190,-235 190,-235 190,-229 196,-223 202,-223 202,-223 362,-223 362,-223 368,-223 374,-229 374,-235 374,-235 374,-294 374,-294 374,-300 368,-306 362,-306\"/>\n<text text-anchor=\"middle\" x=\"282\" y=\"-290.8\" font-family=\"Helvetica,sans-Serif\" font-size=\"14.00\">predator &lt;= 0.5</text>\n<text text-anchor=\"middle\" x=\"282\" y=\"-275.8\" font-family=\"Helvetica,sans-Serif\" font-size=\"14.00\">gini = 0.278</text>\n<text text-anchor=\"middle\" x=\"282\" y=\"-260.8\" font-family=\"Helvetica,sans-Serif\" font-size=\"14.00\">samples = 12</text>\n<text text-anchor=\"middle\" x=\"282\" y=\"-245.8\" font-family=\"Helvetica,sans-Serif\" font-size=\"14.00\">value = [0, 0, 0, 0, 0, 2, 10]</text>\n<text text-anchor=\"middle\" x=\"282\" y=\"-230.8\" font-family=\"Helvetica,sans-Serif\" font-size=\"14.00\">class = 7 Invertebrate</text>\n</g>\n<!-- 4&#45;&gt;5 -->\n<g id=\"edge5\" class=\"edge\">\n<title>4&#45;&gt;5</title>\n<path fill=\"none\" stroke=\"black\" d=\"M410.65,-341.91C394,-332.02 376.07,-321.37 359.04,-311.25\"/>\n<polygon fill=\"black\" stroke=\"black\" points=\"360.61,-308.12 350.23,-306.02 357.04,-314.14 360.61,-308.12\"/>\n</g>\n<!-- 10 -->\n<g id=\"node11\" class=\"node\">\n<title>10</title>\n<path fill=\"#b139e5\" stroke=\"black\" d=\"M556,-298.5C556,-298.5 404,-298.5 404,-298.5 398,-298.5 392,-292.5 392,-286.5 392,-286.5 392,-242.5 392,-242.5 392,-236.5 398,-230.5 404,-230.5 404,-230.5 556,-230.5 556,-230.5 562,-230.5 568,-236.5 568,-242.5 568,-242.5 568,-286.5 568,-286.5 568,-292.5 562,-298.5 556,-298.5\"/>\n<text text-anchor=\"middle\" x=\"480\" y=\"-283.3\" font-family=\"Helvetica,sans-Serif\" font-size=\"14.00\">gini = 0.0</text>\n<text text-anchor=\"middle\" x=\"480\" y=\"-268.3\" font-family=\"Helvetica,sans-Serif\" font-size=\"14.00\">samples = 6</text>\n<text text-anchor=\"middle\" x=\"480\" y=\"-253.3\" font-family=\"Helvetica,sans-Serif\" font-size=\"14.00\">value = [0, 0, 0, 0, 0, 6, 0]</text>\n<text text-anchor=\"middle\" x=\"480\" y=\"-238.3\" font-family=\"Helvetica,sans-Serif\" font-size=\"14.00\">class = 6 Bug</text>\n</g>\n<!-- 4&#45;&gt;10 -->\n<g id=\"edge10\" class=\"edge\">\n<title>4&#45;&gt;10</title>\n<path fill=\"none\" stroke=\"black\" d=\"M479.35,-341.91C479.44,-331.2 479.54,-319.62 479.63,-308.78\"/>\n<polygon fill=\"black\" stroke=\"black\" points=\"483.13,-308.7 479.72,-298.67 476.13,-308.64 483.13,-308.7\"/>\n</g>\n<!-- 6 -->\n<g id=\"node7\" class=\"node\">\n<title>6</title>\n<path fill=\"#ffffff\" stroke=\"black\" d=\"M261,-187C261,-187 109,-187 109,-187 103,-187 97,-181 97,-175 97,-175 97,-116 97,-116 97,-110 103,-104 109,-104 109,-104 261,-104 261,-104 267,-104 273,-110 273,-116 273,-116 273,-175 273,-175 273,-181 267,-187 261,-187\"/>\n<text text-anchor=\"middle\" x=\"185\" y=\"-171.8\" font-family=\"Helvetica,sans-Serif\" font-size=\"14.00\">legs &lt;= 3.0</text>\n<text text-anchor=\"middle\" x=\"185\" y=\"-156.8\" font-family=\"Helvetica,sans-Serif\" font-size=\"14.00\">gini = 0.5</text>\n<text text-anchor=\"middle\" x=\"185\" y=\"-141.8\" font-family=\"Helvetica,sans-Serif\" font-size=\"14.00\">samples = 4</text>\n<text text-anchor=\"middle\" x=\"185\" y=\"-126.8\" font-family=\"Helvetica,sans-Serif\" font-size=\"14.00\">value = [0, 0, 0, 0, 0, 2, 2]</text>\n<text text-anchor=\"middle\" x=\"185\" y=\"-111.8\" font-family=\"Helvetica,sans-Serif\" font-size=\"14.00\">class = 6 Bug</text>\n</g>\n<!-- 5&#45;&gt;6 -->\n<g id=\"edge6\" class=\"edge\">\n<title>5&#45;&gt;6</title>\n<path fill=\"none\" stroke=\"black\" d=\"M248.35,-222.91C240.82,-213.83 232.77,-204.12 225.02,-194.77\"/>\n<polygon fill=\"black\" stroke=\"black\" points=\"227.67,-192.49 218.59,-187.02 222.28,-196.95 227.67,-192.49\"/>\n</g>\n<!-- 9 -->\n<g id=\"node10\" class=\"node\">\n<title>9</title>\n<path fill=\"#e53986\" stroke=\"black\" d=\"M455,-179.5C455,-179.5 303,-179.5 303,-179.5 297,-179.5 291,-173.5 291,-167.5 291,-167.5 291,-123.5 291,-123.5 291,-117.5 297,-111.5 303,-111.5 303,-111.5 455,-111.5 455,-111.5 461,-111.5 467,-117.5 467,-123.5 467,-123.5 467,-167.5 467,-167.5 467,-173.5 461,-179.5 455,-179.5\"/>\n<text text-anchor=\"middle\" x=\"379\" y=\"-164.3\" font-family=\"Helvetica,sans-Serif\" font-size=\"14.00\">gini = 0.0</text>\n<text text-anchor=\"middle\" x=\"379\" y=\"-149.3\" font-family=\"Helvetica,sans-Serif\" font-size=\"14.00\">samples = 8</text>\n<text text-anchor=\"middle\" x=\"379\" y=\"-134.3\" font-family=\"Helvetica,sans-Serif\" font-size=\"14.00\">value = [0, 0, 0, 0, 0, 0, 8]</text>\n<text text-anchor=\"middle\" x=\"379\" y=\"-119.3\" font-family=\"Helvetica,sans-Serif\" font-size=\"14.00\">class = 7 Invertebrate</text>\n</g>\n<!-- 5&#45;&gt;9 -->\n<g id=\"edge9\" class=\"edge\">\n<title>5&#45;&gt;9</title>\n<path fill=\"none\" stroke=\"black\" d=\"M315.65,-222.91C325.17,-211.43 335.53,-198.94 345.06,-187.44\"/>\n<polygon fill=\"black\" stroke=\"black\" points=\"347.81,-189.6 351.5,-179.67 342.43,-185.13 347.81,-189.6\"/>\n</g>\n<!-- 7 -->\n<g id=\"node8\" class=\"node\">\n<title>7</title>\n<path fill=\"#e53986\" stroke=\"black\" d=\"M164,-68C164,-68 12,-68 12,-68 6,-68 0,-62 0,-56 0,-56 0,-12 0,-12 0,-6 6,0 12,0 12,0 164,0 164,0 170,0 176,-6 176,-12 176,-12 176,-56 176,-56 176,-62 170,-68 164,-68\"/>\n<text text-anchor=\"middle\" x=\"88\" y=\"-52.8\" font-family=\"Helvetica,sans-Serif\" font-size=\"14.00\">gini = 0.0</text>\n<text text-anchor=\"middle\" x=\"88\" y=\"-37.8\" font-family=\"Helvetica,sans-Serif\" font-size=\"14.00\">samples = 2</text>\n<text text-anchor=\"middle\" x=\"88\" y=\"-22.8\" font-family=\"Helvetica,sans-Serif\" font-size=\"14.00\">value = [0, 0, 0, 0, 0, 0, 2]</text>\n<text text-anchor=\"middle\" x=\"88\" y=\"-7.8\" font-family=\"Helvetica,sans-Serif\" font-size=\"14.00\">class = 7 Invertebrate</text>\n</g>\n<!-- 6&#45;&gt;7 -->\n<g id=\"edge7\" class=\"edge\">\n<title>6&#45;&gt;7</title>\n<path fill=\"none\" stroke=\"black\" d=\"M148.88,-103.73C140.8,-94.61 132.23,-84.93 124.15,-75.81\"/>\n<polygon fill=\"black\" stroke=\"black\" points=\"126.75,-73.46 117.5,-68.3 121.51,-78.11 126.75,-73.46\"/>\n</g>\n<!-- 8 -->\n<g id=\"node9\" class=\"node\">\n<title>8</title>\n<path fill=\"#b139e5\" stroke=\"black\" d=\"M358,-68C358,-68 206,-68 206,-68 200,-68 194,-62 194,-56 194,-56 194,-12 194,-12 194,-6 200,0 206,0 206,0 358,0 358,0 364,0 370,-6 370,-12 370,-12 370,-56 370,-56 370,-62 364,-68 358,-68\"/>\n<text text-anchor=\"middle\" x=\"282\" y=\"-52.8\" font-family=\"Helvetica,sans-Serif\" font-size=\"14.00\">gini = 0.0</text>\n<text text-anchor=\"middle\" x=\"282\" y=\"-37.8\" font-family=\"Helvetica,sans-Serif\" font-size=\"14.00\">samples = 2</text>\n<text text-anchor=\"middle\" x=\"282\" y=\"-22.8\" font-family=\"Helvetica,sans-Serif\" font-size=\"14.00\">value = [0, 0, 0, 0, 0, 2, 0]</text>\n<text text-anchor=\"middle\" x=\"282\" y=\"-7.8\" font-family=\"Helvetica,sans-Serif\" font-size=\"14.00\">class = 6 Bug</text>\n</g>\n<!-- 6&#45;&gt;8 -->\n<g id=\"edge8\" class=\"edge\">\n<title>6&#45;&gt;8</title>\n<path fill=\"none\" stroke=\"black\" d=\"M221.12,-103.73C229.2,-94.61 237.77,-84.93 245.85,-75.81\"/>\n<polygon fill=\"black\" stroke=\"black\" points=\"248.49,-78.11 252.5,-68.3 243.25,-73.46 248.49,-78.11\"/>\n</g>\n<!-- 12 -->\n<g id=\"node13\" class=\"node\">\n<title>12</title>\n<path fill=\"#39e54d\" stroke=\"black\" d=\"M751,-298.5C751,-298.5 599,-298.5 599,-298.5 593,-298.5 587,-292.5 587,-286.5 587,-286.5 587,-242.5 587,-242.5 587,-236.5 593,-230.5 599,-230.5 599,-230.5 751,-230.5 751,-230.5 757,-230.5 763,-236.5 763,-242.5 763,-242.5 763,-286.5 763,-286.5 763,-292.5 757,-298.5 751,-298.5\"/>\n<text text-anchor=\"middle\" x=\"675\" y=\"-283.3\" font-family=\"Helvetica,sans-Serif\" font-size=\"14.00\">gini = 0.0</text>\n<text text-anchor=\"middle\" x=\"675\" y=\"-268.3\" font-family=\"Helvetica,sans-Serif\" font-size=\"14.00\">samples = 4</text>\n<text text-anchor=\"middle\" x=\"675\" y=\"-253.3\" font-family=\"Helvetica,sans-Serif\" font-size=\"14.00\">value = [0, 0, 4, 0, 0, 0, 0]</text>\n<text text-anchor=\"middle\" x=\"675\" y=\"-238.3\" font-family=\"Helvetica,sans-Serif\" font-size=\"14.00\">class = 3 Reptile</text>\n</g>\n<!-- 11&#45;&gt;12 -->\n<g id=\"edge12\" class=\"edge\">\n<title>11&#45;&gt;12</title>\n<path fill=\"none\" stroke=\"black\" d=\"M676.31,-341.91C676.12,-331.2 675.93,-319.62 675.74,-308.78\"/>\n<polygon fill=\"black\" stroke=\"black\" points=\"679.24,-308.61 675.57,-298.67 672.24,-308.73 679.24,-308.61\"/>\n</g>\n<!-- 13 -->\n<g id=\"node14\" class=\"node\">\n<title>13</title>\n<path fill=\"#6a80ec\" stroke=\"black\" d=\"M945,-306C945,-306 793,-306 793,-306 787,-306 781,-300 781,-294 781,-294 781,-235 781,-235 781,-229 787,-223 793,-223 793,-223 945,-223 945,-223 951,-223 957,-229 957,-235 957,-235 957,-294 957,-294 957,-300 951,-306 945,-306\"/>\n<text text-anchor=\"middle\" x=\"869\" y=\"-290.8\" font-family=\"Helvetica,sans-Serif\" font-size=\"14.00\">eggs &lt;= 0.5</text>\n<text text-anchor=\"middle\" x=\"869\" y=\"-275.8\" font-family=\"Helvetica,sans-Serif\" font-size=\"14.00\">gini = 0.32</text>\n<text text-anchor=\"middle\" x=\"869\" y=\"-260.8\" font-family=\"Helvetica,sans-Serif\" font-size=\"14.00\">samples = 5</text>\n<text text-anchor=\"middle\" x=\"869\" y=\"-245.8\" font-family=\"Helvetica,sans-Serif\" font-size=\"14.00\">value = [0, 0, 1, 0, 4, 0, 0]</text>\n<text text-anchor=\"middle\" x=\"869\" y=\"-230.8\" font-family=\"Helvetica,sans-Serif\" font-size=\"14.00\">class = 5 Amphibian</text>\n</g>\n<!-- 11&#45;&gt;13 -->\n<g id=\"edge13\" class=\"edge\">\n<title>11&#45;&gt;13</title>\n<path fill=\"none\" stroke=\"black\" d=\"M743.61,-341.91C759.85,-332.02 777.32,-321.37 793.92,-311.25\"/>\n<polygon fill=\"black\" stroke=\"black\" points=\"795.79,-314.21 802.5,-306.02 792.14,-308.24 795.79,-314.21\"/>\n</g>\n<!-- 14 -->\n<g id=\"node15\" class=\"node\">\n<title>14</title>\n<path fill=\"#39e54d\" stroke=\"black\" d=\"M848,-179.5C848,-179.5 696,-179.5 696,-179.5 690,-179.5 684,-173.5 684,-167.5 684,-167.5 684,-123.5 684,-123.5 684,-117.5 690,-111.5 696,-111.5 696,-111.5 848,-111.5 848,-111.5 854,-111.5 860,-117.5 860,-123.5 860,-123.5 860,-167.5 860,-167.5 860,-173.5 854,-179.5 848,-179.5\"/>\n<text text-anchor=\"middle\" x=\"772\" y=\"-164.3\" font-family=\"Helvetica,sans-Serif\" font-size=\"14.00\">gini = 0.0</text>\n<text text-anchor=\"middle\" x=\"772\" y=\"-149.3\" font-family=\"Helvetica,sans-Serif\" font-size=\"14.00\">samples = 1</text>\n<text text-anchor=\"middle\" x=\"772\" y=\"-134.3\" font-family=\"Helvetica,sans-Serif\" font-size=\"14.00\">value = [0, 0, 1, 0, 0, 0, 0]</text>\n<text text-anchor=\"middle\" x=\"772\" y=\"-119.3\" font-family=\"Helvetica,sans-Serif\" font-size=\"14.00\">class = 3 Reptile</text>\n</g>\n<!-- 13&#45;&gt;14 -->\n<g id=\"edge14\" class=\"edge\">\n<title>13&#45;&gt;14</title>\n<path fill=\"none\" stroke=\"black\" d=\"M835.35,-222.91C825.83,-211.43 815.47,-198.94 805.94,-187.44\"/>\n<polygon fill=\"black\" stroke=\"black\" points=\"808.57,-185.13 799.5,-179.67 803.19,-189.6 808.57,-185.13\"/>\n</g>\n<!-- 15 -->\n<g id=\"node16\" class=\"node\">\n<title>15</title>\n<path fill=\"#3956e5\" stroke=\"black\" d=\"M1042,-179.5C1042,-179.5 890,-179.5 890,-179.5 884,-179.5 878,-173.5 878,-167.5 878,-167.5 878,-123.5 878,-123.5 878,-117.5 884,-111.5 890,-111.5 890,-111.5 1042,-111.5 1042,-111.5 1048,-111.5 1054,-117.5 1054,-123.5 1054,-123.5 1054,-167.5 1054,-167.5 1054,-173.5 1048,-179.5 1042,-179.5\"/>\n<text text-anchor=\"middle\" x=\"966\" y=\"-164.3\" font-family=\"Helvetica,sans-Serif\" font-size=\"14.00\">gini = 0.0</text>\n<text text-anchor=\"middle\" x=\"966\" y=\"-149.3\" font-family=\"Helvetica,sans-Serif\" font-size=\"14.00\">samples = 4</text>\n<text text-anchor=\"middle\" x=\"966\" y=\"-134.3\" font-family=\"Helvetica,sans-Serif\" font-size=\"14.00\">value = [0, 0, 0, 0, 4, 0, 0]</text>\n<text text-anchor=\"middle\" x=\"966\" y=\"-119.3\" font-family=\"Helvetica,sans-Serif\" font-size=\"14.00\">class = 5 Amphibian</text>\n</g>\n<!-- 13&#45;&gt;15 -->\n<g id=\"edge15\" class=\"edge\">\n<title>13&#45;&gt;15</title>\n<path fill=\"none\" stroke=\"black\" d=\"M902.65,-222.91C912.17,-211.43 922.53,-198.94 932.06,-187.44\"/>\n<polygon fill=\"black\" stroke=\"black\" points=\"934.81,-189.6 938.5,-179.67 929.43,-185.13 934.81,-189.6\"/>\n</g>\n</g>\n</svg>\n",
      "text/plain": [
       "<graphviz.sources.Source at 0x19b033284c0>"
      ]
     },
     "execution_count": 42,
     "metadata": {},
     "output_type": "execute_result"
    }
   ],
   "source": [
    "labels = x.columns\n",
    "\n",
    "class_names = list(np.arange(1,8,1))\n",
    "\n",
    "for i in range(len(class_names)):\n",
    "    if class_names[i] == data_zoo_class.Class_Number[i]:\n",
    "        class_names[i] = str(class_names[i]) + ' ' + data_zoo_class.Class_Type[i]\n",
    "        \n",
    "\n",
    "\n",
    "dot_data = tr.export_graphviz(dtree, out_file=None, \n",
    "                     feature_names=labels,  \n",
    "                     class_names=class_names,  \n",
    "                     filled=True, rounded=True)  \n",
    "graph = graphviz.Source(dot_data)  \n",
    "graph "
   ]
  },
  {
   "cell_type": "code",
   "execution_count": 44,
   "metadata": {},
   "outputs": [
    {
     "data": {
      "image/png": "[encoded data removed]",
      "text/plain": [
       "<Figure size 576x432 with 1 Axes>"
      ]
     },
     "metadata": {
      "needs_background": "light"
     },
     "output_type": "display_data"
    }
   ],
   "source": [
    "features_list = labels.values\n",
    "\n",
    "feature_importance = dtree.feature_importances_\n",
    "sorted_idx = np.argsort(feature_importance)\n",
    "\n",
    "pl.figure(figsize = (8,6))\n",
    "pl.barh(range(len(sorted_idx)),feature_importance[sorted_idx], align='center')\n",
    "pl.yticks(range(len(sorted_idx)),features_list[sorted_idx])\n",
    "pl.xlabel('Importance')\n",
    "pl.title('Feature importances')\n",
    "pl.draw()\n",
    "pl.show()"
   ]
  },
  {
   "cell_type": "code",
   "execution_count": 45,
   "metadata": {},
   "outputs": [],
   "source": [
    "from sklearn.model_selection import train_test_split\n",
    "X_train, X_test, y_train, y_test = train_test_split(x, y, train_size=.3, test_size=.7)\n",
    "clf = tr.DecisionTreeClassifier().fit(X_train, y_train)"
   ]
  },
  {
   "cell_type": "code",
   "execution_count": 46,
   "metadata": {},
   "outputs": [
    {
     "name": "stdout",
     "output_type": "stream",
     "text": [
      "Confusion Matrix:\n",
      "\n",
      "[[27  0  0  0  0  0  0]\n",
      " [ 0  8  0  0  0  0  0]\n",
      " [ 0  0  0  1  0  4  0]\n",
      " [ 0  0  0 12  0  0  0]\n",
      " [ 0  0  0  0  0  4  0]\n",
      " [ 0  0  0  0  0  6  0]\n",
      " [ 0  0  0  0  0  3  6]]\n",
      "\n",
      "Decision tree class report:\n",
      "\n",
      "              precision    recall  f1-score   support\n",
      "\n",
      "           1       1.00      1.00      1.00        27\n",
      "           2       1.00      1.00      1.00         8\n",
      "           3       0.00      0.00      0.00         5\n",
      "           4       0.92      1.00      0.96        12\n",
      "           5       0.00      0.00      0.00         4\n",
      "           6       0.35      1.00      0.52         6\n",
      "           7       1.00      0.67      0.80         9\n",
      "\n",
      "    accuracy                           0.83        71\n",
      "   macro avg       0.61      0.67      0.61        71\n",
      "weighted avg       0.81      0.83      0.80        71\n",
      "\n"
     ]
    },
    {
     "name": "stderr",
     "output_type": "stream",
     "text": [
      "C:\\Users\\phant\\AppData\\Local\\Programs\\Python\\Python310\\lib\\site-packages\\sklearn\\metrics\\_classification.py:1318: UndefinedMetricWarning: Precision and F-score are ill-defined and being set to 0.0 in labels with no predicted samples. Use `zero_division` parameter to control this behavior.\n",
      "  _warn_prf(average, modifier, msg_start, len(result))\n",
      "C:\\Users\\phant\\AppData\\Local\\Programs\\Python\\Python310\\lib\\site-packages\\sklearn\\metrics\\_classification.py:1318: UndefinedMetricWarning: Precision and F-score are ill-defined and being set to 0.0 in labels with no predicted samples. Use `zero_division` parameter to control this behavior.\n",
      "  _warn_prf(average, modifier, msg_start, len(result))\n",
      "C:\\Users\\phant\\AppData\\Local\\Programs\\Python\\Python310\\lib\\site-packages\\sklearn\\metrics\\_classification.py:1318: UndefinedMetricWarning: Precision and F-score are ill-defined and being set to 0.0 in labels with no predicted samples. Use `zero_division` parameter to control this behavior.\n",
      "  _warn_prf(average, modifier, msg_start, len(result))\n"
     ]
    }
   ],
   "source": [
    "from sklearn.metrics import classification_report\n",
    "from sklearn.metrics import confusion_matrix\n",
    "from sklearn.metrics import accuracy_score\n",
    "\n",
    "pred = clf.predict(X_test)\n",
    "\n",
    "print('Confusion Matrix:')\n",
    "print()\n",
    "print(confusion_matrix(y_test, pred))\n",
    "print()\n",
    "print('Decision tree class report:')\n",
    "print()\n",
    "print(classification_report(y_test, pred))"
   ]
  }
 ],
 "metadata": {
  "interpreter": {
   "hash": "05a82d9ab31f4f3019f96038fc8e7cf84dada7828ed3a4405f4e5b72f2593401"
  },
  "kernelspec": {
   "display_name": "Python 3.10.4 64-bit",
   "language": "python",
   "name": "python3"
  },
  "language_info": {
   "codemirror_mode": {
    "name": "ipython",
    "version": 3
   },
   "file_extension": ".py",
   "mimetype": "text/x-python",
   "name": "python",
   "nbconvert_exporter": "python",
   "pygments_lexer": "ipython3",
   "version": "3.10.4"
  },
  "orig_nbformat": 4
 },
 "nbformat": 4,
 "nbformat_minor": 2
}
